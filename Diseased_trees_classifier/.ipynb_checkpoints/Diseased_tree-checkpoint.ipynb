{
 "cells": [
  {
   "cell_type": "code",
   "execution_count": 4,
   "metadata": {},
   "outputs": [
    {
     "name": "stdout",
     "output_type": "stream",
     "text": [
      "Python version: 3.7.4 (default, Aug 13 2019, 20:35:49) \n",
      "[GCC 7.3.0]\n",
      "pandas version: 0.25.3\n",
      "matplotlib version: 3.0.2\n",
      "NumPy version: 1.15.4\n",
      "SciPy version: 1.1.0\n",
      "IPython version: 7.2.0\n",
      "scikit-learn version: 0.20.1\n",
      "-------------------------\n",
      "Diseased_tree.ipynb\n",
      "\n"
     ]
    }
   ],
   "source": [
    "# It is defined by the kaggle/python docker image: https://github.com/kaggle/docker-python\n",
    "\n",
    "#load packages\n",
    "import sys #access to system parameters https://docs.python.org/3/library/sys.html\n",
    "print(\"Python version: {}\". format(sys.version))\n",
    "\n",
    "import pandas as pd #collection of functions for data processing and analysis modeled after R dataframes with SQL like features\n",
    "print(\"pandas version: {}\". format(pd.__version__))\n",
    "\n",
    "import matplotlib #collection of functions for scientific and publication-ready visualization\n",
    "print(\"matplotlib version: {}\". format(matplotlib.__version__))\n",
    "\n",
    "import numpy as np #foundational package for scientific computing\n",
    "print(\"NumPy version: {}\". format(np.__version__))\n",
    "\n",
    "import scipy as sp #collection of functions for scientific computing and advance mathematics\n",
    "print(\"SciPy version: {}\". format(sp.__version__)) \n",
    "\n",
    "import IPython\n",
    "from IPython import display #pretty printing of dataframes in Jupyter notebook\n",
    "print(\"IPython version: {}\". format(IPython.__version__)) \n",
    "\n",
    "import sklearn #collection of machine learning algorithms\n",
    "print(\"scikit-learn version: {}\". format(sklearn.__version__))\n",
    "\n",
    "#misc libraries\n",
    "import random\n",
    "import time\n",
    "\n",
    "\n",
    "#ignore warnings\n",
    "import warnings\n",
    "warnings.filterwarnings('ignore')\n",
    "print('-'*25)\n",
    "\n",
    "\n",
    "\n",
    "# Input data files are available in the \"../input/\" directory.\n",
    "# For example, running this (by clicking run or pressing Shift+Enter) will list the files in the input directory\n",
    "\n",
    "from subprocess import check_output\n",
    "print(check_output([\"ls\", \"/mnt/c/Users/aboli/Desktop/Projects/Diseased_trees_classifier/\"]).decode(\"utf8\"))\n",
    "\n",
    "# Any results you write to the current directory are saved as output."
   ]
  },
  {
   "cell_type": "code",
   "execution_count": 5,
   "metadata": {},
   "outputs": [],
   "source": [
    "#Common Model Algorithms\n",
    "from sklearn import svm, tree, linear_model, neighbors, naive_bayes, ensemble, discriminant_analysis, gaussian_process\n",
    "from xgboost import XGBClassifier\n",
    "\n",
    "#Common Model Helpers\n",
    "from sklearn.preprocessing import OneHotEncoder, LabelEncoder\n",
    "from sklearn import feature_selection\n",
    "from sklearn import model_selection\n",
    "from sklearn import metrics\n",
    "\n",
    "#Visualization\n",
    "import matplotlib as mpl\n",
    "import matplotlib.pyplot as plt\n",
    "import matplotlib.pylab as pylab\n",
    "import seaborn as sns\n",
    "from pandas.plotting import scatter_matrix\n",
    "\n",
    "#Configure Visualization Defaults\n",
    "#%matplotlib inline = show plots in Jupyter Notebook browser\n",
    "%matplotlib inline\n",
    "mpl.style.use('ggplot')\n",
    "sns.set_style('white')\n",
    "pylab.rcParams['figure.figsize'] = 12,8"
   ]
  },
  {
   "cell_type": "code",
   "execution_count": 6,
   "metadata": {},
   "outputs": [
    {
     "name": "stdout",
     "output_type": "stream",
     "text": [
      "<class 'pandas.core.frame.DataFrame'>\n",
      "RangeIndex: 4339 entries, 0 to 4338\n",
      "Data columns (total 6 columns):\n",
      "class         4339 non-null object\n",
      "GLCM_pan      4339 non-null float64\n",
      "Mean_Green    4339 non-null float64\n",
      "Mean_Red      4339 non-null float64\n",
      "Mean_NIR      4339 non-null float64\n",
      "SD_pan        4339 non-null float64\n",
      "dtypes: float64(5), object(1)\n",
      "memory usage: 203.5+ KB\n",
      "None\n"
     ]
    },
    {
     "data": {
      "text/html": [
       "<div>\n",
       "<style scoped>\n",
       "    .dataframe tbody tr th:only-of-type {\n",
       "        vertical-align: middle;\n",
       "    }\n",
       "\n",
       "    .dataframe tbody tr th {\n",
       "        vertical-align: top;\n",
       "    }\n",
       "\n",
       "    .dataframe thead th {\n",
       "        text-align: right;\n",
       "    }\n",
       "</style>\n",
       "<table border=\"1\" class=\"dataframe\">\n",
       "  <thead>\n",
       "    <tr style=\"text-align: right;\">\n",
       "      <th></th>\n",
       "      <th>class</th>\n",
       "      <th>GLCM_pan</th>\n",
       "      <th>Mean_Green</th>\n",
       "      <th>Mean_Red</th>\n",
       "      <th>Mean_NIR</th>\n",
       "      <th>SD_pan</th>\n",
       "    </tr>\n",
       "  </thead>\n",
       "  <tbody>\n",
       "    <tr>\n",
       "      <th>1911</th>\n",
       "      <td>n</td>\n",
       "      <td>145.078704</td>\n",
       "      <td>219.629630</td>\n",
       "      <td>102.259259</td>\n",
       "      <td>507.629630</td>\n",
       "      <td>27.410210</td>\n",
       "    </tr>\n",
       "    <tr>\n",
       "      <th>3113</th>\n",
       "      <td>n</td>\n",
       "      <td>121.093278</td>\n",
       "      <td>209.706522</td>\n",
       "      <td>94.021739</td>\n",
       "      <td>418.673913</td>\n",
       "      <td>18.972645</td>\n",
       "    </tr>\n",
       "    <tr>\n",
       "      <th>2794</th>\n",
       "      <td>n</td>\n",
       "      <td>132.098110</td>\n",
       "      <td>271.114286</td>\n",
       "      <td>134.071429</td>\n",
       "      <td>657.257143</td>\n",
       "      <td>23.108246</td>\n",
       "    </tr>\n",
       "    <tr>\n",
       "      <th>1137</th>\n",
       "      <td>n</td>\n",
       "      <td>125.490015</td>\n",
       "      <td>240.341463</td>\n",
       "      <td>128.829268</td>\n",
       "      <td>435.756098</td>\n",
       "      <td>16.669228</td>\n",
       "    </tr>\n",
       "    <tr>\n",
       "      <th>2898</th>\n",
       "      <td>n</td>\n",
       "      <td>116.315341</td>\n",
       "      <td>208.545455</td>\n",
       "      <td>93.818182</td>\n",
       "      <td>511.954545</td>\n",
       "      <td>21.134409</td>\n",
       "    </tr>\n",
       "    <tr>\n",
       "      <th>1742</th>\n",
       "      <td>n</td>\n",
       "      <td>142.346499</td>\n",
       "      <td>237.114286</td>\n",
       "      <td>101.542857</td>\n",
       "      <td>667.285714</td>\n",
       "      <td>27.442496</td>\n",
       "    </tr>\n",
       "    <tr>\n",
       "      <th>3080</th>\n",
       "      <td>n</td>\n",
       "      <td>134.856007</td>\n",
       "      <td>236.732394</td>\n",
       "      <td>110.704225</td>\n",
       "      <td>603.957746</td>\n",
       "      <td>21.901667</td>\n",
       "    </tr>\n",
       "    <tr>\n",
       "      <th>3969</th>\n",
       "      <td>n</td>\n",
       "      <td>129.053977</td>\n",
       "      <td>340.820225</td>\n",
       "      <td>215.179775</td>\n",
       "      <td>337.269663</td>\n",
       "      <td>25.549598</td>\n",
       "    </tr>\n",
       "    <tr>\n",
       "      <th>397</th>\n",
       "      <td>n</td>\n",
       "      <td>111.024456</td>\n",
       "      <td>238.913044</td>\n",
       "      <td>108.695652</td>\n",
       "      <td>777.695652</td>\n",
       "      <td>21.193144</td>\n",
       "    </tr>\n",
       "    <tr>\n",
       "      <th>2716</th>\n",
       "      <td>n</td>\n",
       "      <td>134.776596</td>\n",
       "      <td>196.333333</td>\n",
       "      <td>87.833333</td>\n",
       "      <td>351.333333</td>\n",
       "      <td>9.308830</td>\n",
       "    </tr>\n",
       "  </tbody>\n",
       "</table>\n",
       "</div>"
      ],
      "text/plain": [
       "     class    GLCM_pan  Mean_Green    Mean_Red    Mean_NIR     SD_pan\n",
       "1911     n  145.078704  219.629630  102.259259  507.629630  27.410210\n",
       "3113     n  121.093278  209.706522   94.021739  418.673913  18.972645\n",
       "2794     n  132.098110  271.114286  134.071429  657.257143  23.108246\n",
       "1137     n  125.490015  240.341463  128.829268  435.756098  16.669228\n",
       "2898     n  116.315341  208.545455   93.818182  511.954545  21.134409\n",
       "1742     n  142.346499  237.114286  101.542857  667.285714  27.442496\n",
       "3080     n  134.856007  236.732394  110.704225  603.957746  21.901667\n",
       "3969     n  129.053977  340.820225  215.179775  337.269663  25.549598\n",
       "397      n  111.024456  238.913044  108.695652  777.695652  21.193144\n",
       "2716     n  134.776596  196.333333   87.833333  351.333333   9.308830"
      ]
     },
     "execution_count": 6,
     "metadata": {},
     "output_type": "execute_result"
    }
   ],
   "source": [
    "#import data from file\n",
    "train_data = pd.read_csv('../Datasets/supervised/Binaryclassification/wilt/training.csv')\n",
    "\n",
    "test_data  = pd.read_csv('../Datasets/supervised/Binaryclassification/wilt/testing.csv')\n",
    "\n",
    "data_cleaner = [train_data, test_data]\n",
    "\n",
    "#preview data\n",
    "print (train_data.info())\n",
    "train_data.sample(10) "
   ]
  },
  {
   "cell_type": "code",
   "execution_count": 7,
   "metadata": {},
   "outputs": [
    {
     "name": "stdout",
     "output_type": "stream",
     "text": [
      "Train columns with null values:\n",
      " class         0\n",
      "GLCM_pan      0\n",
      "Mean_Green    0\n",
      "Mean_Red      0\n",
      "Mean_NIR      0\n",
      "SD_pan        0\n",
      "dtype: int64\n",
      "----------\n",
      "Test columns with null values:\n",
      " class         0\n",
      "GLCM_pan      0\n",
      "Mean_Green    0\n",
      "Mean_Red      0\n",
      "Mean_NIR      0\n",
      "SD_pan        0\n",
      "dtype: int64\n",
      "----------\n"
     ]
    },
    {
     "data": {
      "text/html": [
       "<div>\n",
       "<style scoped>\n",
       "    .dataframe tbody tr th:only-of-type {\n",
       "        vertical-align: middle;\n",
       "    }\n",
       "\n",
       "    .dataframe tbody tr th {\n",
       "        vertical-align: top;\n",
       "    }\n",
       "\n",
       "    .dataframe thead th {\n",
       "        text-align: right;\n",
       "    }\n",
       "</style>\n",
       "<table border=\"1\" class=\"dataframe\">\n",
       "  <thead>\n",
       "    <tr style=\"text-align: right;\">\n",
       "      <th></th>\n",
       "      <th>class</th>\n",
       "      <th>GLCM_pan</th>\n",
       "      <th>Mean_Green</th>\n",
       "      <th>Mean_Red</th>\n",
       "      <th>Mean_NIR</th>\n",
       "      <th>SD_pan</th>\n",
       "    </tr>\n",
       "  </thead>\n",
       "  <tbody>\n",
       "    <tr>\n",
       "      <th>count</th>\n",
       "      <td>500</td>\n",
       "      <td>500.000000</td>\n",
       "      <td>500.000000</td>\n",
       "      <td>500.000000</td>\n",
       "      <td>500.000000</td>\n",
       "      <td>500.000000</td>\n",
       "    </tr>\n",
       "    <tr>\n",
       "      <th>unique</th>\n",
       "      <td>2</td>\n",
       "      <td>NaN</td>\n",
       "      <td>NaN</td>\n",
       "      <td>NaN</td>\n",
       "      <td>NaN</td>\n",
       "      <td>NaN</td>\n",
       "    </tr>\n",
       "    <tr>\n",
       "      <th>top</th>\n",
       "      <td>n</td>\n",
       "      <td>NaN</td>\n",
       "      <td>NaN</td>\n",
       "      <td>NaN</td>\n",
       "      <td>NaN</td>\n",
       "      <td>NaN</td>\n",
       "    </tr>\n",
       "    <tr>\n",
       "      <th>freq</th>\n",
       "      <td>313</td>\n",
       "      <td>NaN</td>\n",
       "      <td>NaN</td>\n",
       "      <td>NaN</td>\n",
       "      <td>NaN</td>\n",
       "      <td>NaN</td>\n",
       "    </tr>\n",
       "    <tr>\n",
       "      <th>mean</th>\n",
       "      <td>NaN</td>\n",
       "      <td>127.065977</td>\n",
       "      <td>209.767564</td>\n",
       "      <td>107.739215</td>\n",
       "      <td>453.734870</td>\n",
       "      <td>20.641288</td>\n",
       "    </tr>\n",
       "    <tr>\n",
       "      <th>std</th>\n",
       "      <td>NaN</td>\n",
       "      <td>10.667542</td>\n",
       "      <td>78.677763</td>\n",
       "      <td>71.773037</td>\n",
       "      <td>156.198323</td>\n",
       "      <td>6.757322</td>\n",
       "    </tr>\n",
       "    <tr>\n",
       "      <th>min</th>\n",
       "      <td>NaN</td>\n",
       "      <td>81.125000</td>\n",
       "      <td>117.210526</td>\n",
       "      <td>50.578947</td>\n",
       "      <td>144.875817</td>\n",
       "      <td>5.772400</td>\n",
       "    </tr>\n",
       "    <tr>\n",
       "      <th>25%</th>\n",
       "      <td>NaN</td>\n",
       "      <td>119.978475</td>\n",
       "      <td>188.892662</td>\n",
       "      <td>85.511304</td>\n",
       "      <td>341.588922</td>\n",
       "      <td>15.853416</td>\n",
       "    </tr>\n",
       "    <tr>\n",
       "      <th>50%</th>\n",
       "      <td>NaN</td>\n",
       "      <td>127.532191</td>\n",
       "      <td>203.626923</td>\n",
       "      <td>99.828421</td>\n",
       "      <td>443.719444</td>\n",
       "      <td>20.028992</td>\n",
       "    </tr>\n",
       "    <tr>\n",
       "      <th>75%</th>\n",
       "      <td>NaN</td>\n",
       "      <td>133.799711</td>\n",
       "      <td>218.965116</td>\n",
       "      <td>118.054555</td>\n",
       "      <td>542.959928</td>\n",
       "      <td>24.121108</td>\n",
       "    </tr>\n",
       "    <tr>\n",
       "      <th>max</th>\n",
       "      <td>NaN</td>\n",
       "      <td>167.944444</td>\n",
       "      <td>1848.916667</td>\n",
       "      <td>1594.583333</td>\n",
       "      <td>1597.333333</td>\n",
       "      <td>62.396581</td>\n",
       "    </tr>\n",
       "  </tbody>\n",
       "</table>\n",
       "</div>"
      ],
      "text/plain": [
       "       class    GLCM_pan   Mean_Green     Mean_Red     Mean_NIR      SD_pan\n",
       "count    500  500.000000   500.000000   500.000000   500.000000  500.000000\n",
       "unique     2         NaN          NaN          NaN          NaN         NaN\n",
       "top        n         NaN          NaN          NaN          NaN         NaN\n",
       "freq     313         NaN          NaN          NaN          NaN         NaN\n",
       "mean     NaN  127.065977   209.767564   107.739215   453.734870   20.641288\n",
       "std      NaN   10.667542    78.677763    71.773037   156.198323    6.757322\n",
       "min      NaN   81.125000   117.210526    50.578947   144.875817    5.772400\n",
       "25%      NaN  119.978475   188.892662    85.511304   341.588922   15.853416\n",
       "50%      NaN  127.532191   203.626923    99.828421   443.719444   20.028992\n",
       "75%      NaN  133.799711   218.965116   118.054555   542.959928   24.121108\n",
       "max      NaN  167.944444  1848.916667  1594.583333  1597.333333   62.396581"
      ]
     },
     "execution_count": 7,
     "metadata": {},
     "output_type": "execute_result"
    }
   ],
   "source": [
    "print('Train columns with null values:\\n', train_data.isnull().sum())\n",
    "print(\"-\"*10)\n",
    "\n",
    "print('Test columns with null values:\\n', test_data.isnull().sum())\n",
    "print(\"-\"*10)\n",
    "\n",
    "train_data.describe(include = 'all')\n",
    "test_data.describe(include = 'all')"
   ]
  },
  {
   "cell_type": "code",
   "execution_count": 12,
   "metadata": {},
   "outputs": [],
   "source": [
    "for data in data_cleaner:\n",
    "    data.rename(columns = { \"class\" : \"Category\" }, inplace = True)"
   ]
  },
  {
   "cell_type": "code",
   "execution_count": 14,
   "metadata": {},
   "outputs": [
    {
     "data": {
      "text/html": [
       "<div>\n",
       "<style scoped>\n",
       "    .dataframe tbody tr th:only-of-type {\n",
       "        vertical-align: middle;\n",
       "    }\n",
       "\n",
       "    .dataframe tbody tr th {\n",
       "        vertical-align: top;\n",
       "    }\n",
       "\n",
       "    .dataframe thead th {\n",
       "        text-align: right;\n",
       "    }\n",
       "</style>\n",
       "<table border=\"1\" class=\"dataframe\">\n",
       "  <thead>\n",
       "    <tr style=\"text-align: right;\">\n",
       "      <th></th>\n",
       "      <th>Category</th>\n",
       "      <th>GLCM_pan</th>\n",
       "      <th>Mean_Green</th>\n",
       "      <th>Mean_Red</th>\n",
       "      <th>Mean_NIR</th>\n",
       "      <th>SD_pan</th>\n",
       "    </tr>\n",
       "  </thead>\n",
       "  <tbody>\n",
       "    <tr>\n",
       "      <th>0</th>\n",
       "      <td>n</td>\n",
       "      <td>109.828571</td>\n",
       "      <td>183.700000</td>\n",
       "      <td>82.950000</td>\n",
       "      <td>251.750000</td>\n",
       "      <td>16.079412</td>\n",
       "    </tr>\n",
       "    <tr>\n",
       "      <th>1</th>\n",
       "      <td>n</td>\n",
       "      <td>130.284483</td>\n",
       "      <td>212.637931</td>\n",
       "      <td>96.896552</td>\n",
       "      <td>482.396552</td>\n",
       "      <td>21.210295</td>\n",
       "    </tr>\n",
       "    <tr>\n",
       "      <th>2</th>\n",
       "      <td>n</td>\n",
       "      <td>131.386555</td>\n",
       "      <td>185.466667</td>\n",
       "      <td>85.466667</td>\n",
       "      <td>419.666667</td>\n",
       "      <td>13.339998</td>\n",
       "    </tr>\n",
       "    <tr>\n",
       "      <th>3</th>\n",
       "      <td>n</td>\n",
       "      <td>141.345098</td>\n",
       "      <td>180.875000</td>\n",
       "      <td>81.500000</td>\n",
       "      <td>348.062500</td>\n",
       "      <td>18.213577</td>\n",
       "    </tr>\n",
       "    <tr>\n",
       "      <th>4</th>\n",
       "      <td>w</td>\n",
       "      <td>121.383408</td>\n",
       "      <td>218.357143</td>\n",
       "      <td>112.017857</td>\n",
       "      <td>426.607143</td>\n",
       "      <td>19.083196</td>\n",
       "    </tr>\n",
       "  </tbody>\n",
       "</table>\n",
       "</div>"
      ],
      "text/plain": [
       "  Category    GLCM_pan  Mean_Green    Mean_Red    Mean_NIR     SD_pan\n",
       "0        n  109.828571  183.700000   82.950000  251.750000  16.079412\n",
       "1        n  130.284483  212.637931   96.896552  482.396552  21.210295\n",
       "2        n  131.386555  185.466667   85.466667  419.666667  13.339998\n",
       "3        n  141.345098  180.875000   81.500000  348.062500  18.213577\n",
       "4        w  121.383408  218.357143  112.017857  426.607143  19.083196"
      ]
     },
     "execution_count": 14,
     "metadata": {},
     "output_type": "execute_result"
    }
   ],
   "source": [
    "test_data.head()"
   ]
  },
  {
   "cell_type": "code",
   "execution_count": 27,
   "metadata": {},
   "outputs": [
    {
     "data": {
      "image/png": "[encoded data removed]",
      "text/plain": [
       "<Figure size 864x432 with 6 Axes>"
      ]
     },
     "metadata": {
      "needs_background": "light"
     },
     "output_type": "display_data"
    }
   ],
   "source": [
    "train_data.hist(edgecolor='black', linewidth=1.2)\n",
    "fig=plt.gcf()\n",
    "fig.set_size_inches(12,6)\n",
    "plt.show()\n"
   ]
  },
  {
   "cell_type": "code",
   "execution_count": 29,
   "metadata": {},
   "outputs": [
    {
     "data": {
      "text/plain": [
       "<matplotlib.axes._subplots.AxesSubplot at 0x7fdc44ed5190>"
      ]
     },
     "execution_count": 29,
     "metadata": {},
     "output_type": "execute_result"
    },
    {
     "data": {
      "image/png": "[encoded data removed]",
      "text/plain": [
       "<Figure size 1080x720 with 5 Axes>"
      ]
     },
     "metadata": {
      "needs_background": "light"
     },
     "output_type": "display_data"
    }
   ],
   "source": [
    "#Now let us see how the length and width vary according to the species\n",
    "plt.figure(figsize=(15,10))\n",
    "plt.subplot(3,2,1)\n",
    "sns.violinplot(x='Category',y='GLCM_pan',data=train_data)\n",
    "plt.subplot(3,2,2)\n",
    "sns.violinplot(x='Category',y='Mean_Green',data=train_data)\n",
    "plt.subplot(3,2,3)\n",
    "sns.violinplot(x='Category',y='Mean_Red',data=train_data)\n",
    "plt.subplot(3,2,4)\n",
    "sns.violinplot(x='Category',y='Mean_NIR',data=train_data)\n",
    "plt.subplot(3,2,5)\n",
    "sns.violinplot(x='Category',y='SD_pan',data=train_data)"
   ]
  },
  {
   "cell_type": "code",
   "execution_count": 40,
   "metadata": {},
   "outputs": [
    {
     "data": {
      "image/png": "[encoded data removed]",
      "text/plain": [
       "<Figure size 720x432 with 1 Axes>"
      ]
     },
     "metadata": {
      "needs_background": "light"
     },
     "output_type": "display_data"
    }
   ],
   "source": [
    "''' We can see that following features are highly correlated. It can also be seen from the heatmaps '''\n",
    "\n",
    "fig = train_data[train_data.Category=='w'].plot(kind='scatter',x='Mean_Green',y='Mean_Red',color='orange', label='w')\n",
    "train_data[train_data.Category=='n'].plot(kind='scatter',x='Mean_Green',y='Mean_Red',color='blue', label='n',ax=fig)\n",
    "fig.set_xlabel(\"Mean_Green\")\n",
    "fig.set_ylabel(\"Mean_Red\")\n",
    "fig.set_title(\"Mean_Green VS Mean_Red\")\n",
    "fig=plt.gcf()\n",
    "fig.set_size_inches(10,6)\n",
    "plt.show()\n"
   ]
  },
  {
   "cell_type": "markdown",
   "metadata": {},
   "source": [
    "Now the given problem is a classification problem.. Thus we will be using the classification algorithms to build a model. Classification: samples belong to two or more classes and we want to learn from already labeled data how to predict the class of unlabeled data"
   ]
  },
  {
   "cell_type": "code",
   "execution_count": 30,
   "metadata": {},
   "outputs": [],
   "source": [
    "# importing alll the necessary packages to use the various classification algorithms\n",
    "from sklearn.linear_model import LogisticRegression  # for Logistic Regression algorithm\n",
    "from sklearn.model_selection import train_test_split #to split the dataset for training and testing\n",
    "from sklearn.neighbors import KNeighborsClassifier  # for K nearest neighbours\n",
    "from sklearn import svm  #for Support Vector Machine (SVM) Algorithm\n",
    "from sklearn import metrics #for checking the model accuracy\n",
    "from sklearn.tree import DecisionTreeClassifier #for using Decision Tree Algoithm"
   ]
  },
  {
   "cell_type": "code",
   "execution_count": 31,
   "metadata": {},
   "outputs": [
    {
     "data": {
      "text/plain": [
       "(4339, 6)"
      ]
     },
     "execution_count": 31,
     "metadata": {},
     "output_type": "execute_result"
    }
   ],
   "source": [
    "train_data.shape #get the shape of the dataset"
   ]
  },
  {
   "cell_type": "code",
   "execution_count": 32,
   "metadata": {},
   "outputs": [
    {
     "data": {
      "image/png": "[encoded data removed]",
      "text/plain": [
       "<Figure size 504x288 with 2 Axes>"
      ]
     },
     "metadata": {
      "needs_background": "light"
     },
     "output_type": "display_data"
    }
   ],
   "source": [
    "plt.figure(figsize=(7,4)) \n",
    "sns.heatmap(train_data.corr(),annot=True,cmap='cubehelix_r') #draws  heatmap with input as the correlation matrix calculted by(iris.corr())\n",
    "plt.show()"
   ]
  },
  {
   "cell_type": "markdown",
   "metadata": {},
   "source": [
    "Observation--->\n",
    "\n",
    "The Mean_Green and Mean_Red are highly correlated.\n",
    "\n",
    "We will use all the features for training the algorithm and check the accuracy.\n",
    "\n",
    "Then we will consider only one feature between Mean_Green and Mean_Red to check the accuracy of the algorithm. Thus we can have a variance in the dataset which may help in better accuracy. We will check it later."
   ]
  },
  {
   "cell_type": "code",
   "execution_count": 41,
   "metadata": {},
   "outputs": [
    {
     "data": {
      "text/plain": [
       "(4339, 6)"
      ]
     },
     "execution_count": 41,
     "metadata": {},
     "output_type": "execute_result"
    }
   ],
   "source": [
    "train_data.shape"
   ]
  },
  {
   "cell_type": "code",
   "execution_count": 126,
   "metadata": {},
   "outputs": [
    {
     "data": {
      "text/plain": [
       "(500, 6)"
      ]
     },
     "execution_count": 126,
     "metadata": {},
     "output_type": "execute_result"
    }
   ],
   "source": [
    "test_data.shape"
   ]
  },
  {
   "cell_type": "code",
   "execution_count": 170,
   "metadata": {},
   "outputs": [],
   "source": [
    "train_X = train_data[['GLCM_pan', 'Mean_Green', 'Mean_Red', 'Mean_NIR', 'SD_pan']]\n",
    "train_Y = train_data['Category']\n",
    "test_X = test_data[['GLCM_pan', 'Mean_Green', 'Mean_Red', 'Mean_NIR', 'SD_pan']]\n",
    "test_Y = test_data['Category']"
   ]
  },
  {
   "cell_type": "code",
   "execution_count": 171,
   "metadata": {},
   "outputs": [
    {
     "name": "stdout",
     "output_type": "stream",
     "text": [
      "The accuracy of the SVM is: 0.628\n"
     ]
    }
   ],
   "source": [
    "model = svm.SVC() #select the algorithm\n",
    "model.fit(train_X,train_Y) # we train the algorithm with the training data and the training output\n",
    "prediction=model.predict(test_X) #now we pass the testing data to the trained algorithm\n",
    "print('The accuracy of the SVM is:',metrics.accuracy_score(prediction,test_Y))#now we check the accuracy of the algorithm. \n",
    "#we pass the predicted output by the model and the actual output"
   ]
  },
  {
   "cell_type": "code",
   "execution_count": 172,
   "metadata": {},
   "outputs": [
    {
     "name": "stdout",
     "output_type": "stream",
     "text": [
      "The accuracy of the Logistic Regression is 0.65\n"
     ]
    }
   ],
   "source": [
    "model = LogisticRegression()\n",
    "model.fit(train_X,train_Y)\n",
    "prediction=model.predict(test_X)\n",
    "print('The accuracy of the Logistic Regression is',metrics.accuracy_score(prediction,test_Y))"
   ]
  },
  {
   "cell_type": "code",
   "execution_count": 173,
   "metadata": {},
   "outputs": [
    {
     "name": "stdout",
     "output_type": "stream",
     "text": [
      "The accuracy of the Decision Tree is 0.806\n"
     ]
    }
   ],
   "source": [
    "model=DecisionTreeClassifier()\n",
    "model.fit(train_X,train_Y)\n",
    "prediction=model.predict(test_X)\n",
    "print('The accuracy of the Decision Tree is',metrics.accuracy_score(prediction,test_Y))"
   ]
  },
  {
   "cell_type": "code",
   "execution_count": 174,
   "metadata": {},
   "outputs": [
    {
     "name": "stdout",
     "output_type": "stream",
     "text": [
      "The accuracy of the KNN is 0.808\n"
     ]
    }
   ],
   "source": [
    "model=KNeighborsClassifier(n_neighbors=1) #this examines 5 neighbours for putting the new data into a class\n",
    "model.fit(train_X,train_Y)\n",
    "prediction=model.predict(test_X)\n",
    "print('The accuracy of the KNN is',metrics.accuracy_score(prediction,test_Y))"
   ]
  },
  {
   "cell_type": "code",
   "execution_count": 175,
   "metadata": {},
   "outputs": [
    {
     "data": {
      "text/plain": [
       "([<matplotlib.axis.XTick at 0x7fdc37b15a50>,\n",
       "  <matplotlib.axis.XTick at 0x7fdc379f9ad0>,\n",
       "  <matplotlib.axis.XTick at 0x7fdc37b9e190>,\n",
       "  <matplotlib.axis.XTick at 0x7fdc36675690>,\n",
       "  <matplotlib.axis.XTick at 0x7fdc36675590>,\n",
       "  <matplotlib.axis.XTick at 0x7fdc3667c1d0>,\n",
       "  <matplotlib.axis.XTick at 0x7fdc3667c750>,\n",
       "  <matplotlib.axis.XTick at 0x7fdc3667c5d0>,\n",
       "  <matplotlib.axis.XTick at 0x7fdc36683290>,\n",
       "  <matplotlib.axis.XTick at 0x7fdc3667c4d0>,\n",
       "  <matplotlib.axis.XTick at 0x7fdc3667c590>],\n",
       " <a list of 11 Text xticklabel objects>)"
      ]
     },
     "execution_count": 175,
     "metadata": {},
     "output_type": "execute_result"
    },
    {
     "data": {
      "image/png": "[encoded data removed]",
      "text/plain": [
       "<Figure size 432x288 with 1 Axes>"
      ]
     },
     "metadata": {
      "needs_background": "light"
     },
     "output_type": "display_data"
    }
   ],
   "source": [
    "a_index=list(range(1,11))\n",
    "a=pd.Series()\n",
    "x=[1,2,3,4,5,6,7,8,9,10,11]\n",
    "for i in list(range(1,11)):\n",
    "    model=KNeighborsClassifier(n_neighbors=i) \n",
    "    model.fit(train_X,train_Y)\n",
    "    prediction=model.predict(test_X)\n",
    "    a=a.append(pd.Series(metrics.accuracy_score(prediction,test_Y)))\n",
    "plt.plot(a_index, a)\n",
    "plt.xticks(x)"
   ]
  },
  {
   "cell_type": "code",
   "execution_count": 195,
   "metadata": {},
   "outputs": [
    {
     "data": {
      "text/plain": [
       "Mean_Green    0.486771\n",
       "Mean_Red      0.293783\n",
       "Mean_NIR      0.106360\n",
       "SD_pan        0.061095\n",
       "GLCM_pan      0.051991\n",
       "dtype: float64"
      ]
     },
     "execution_count": 195,
     "metadata": {},
     "output_type": "execute_result"
    }
   ],
   "source": [
    "from sklearn.ensemble import RandomForestClassifier \n",
    "model= RandomForestClassifier(n_estimators=100,random_state=0)\n",
    "\n",
    "model.fit(train_X,train_Y)\n",
    "pd.Series(model.feature_importances_,index=train_X.columns).sort_values(ascending=False)"
   ]
  },
  {
   "cell_type": "markdown",
   "metadata": {},
   "source": [
    "   Since features SD_pan and GLCM_pan are least important, we will ignore this features and predict accuracy using following algorithms."
   ]
  },
  {
   "cell_type": "code",
   "execution_count": 214,
   "metadata": {},
   "outputs": [],
   "source": [
    "train_X_1 = train_data[['Mean_Green', 'Mean_Red','Mean_NIR']]\n",
    "train_Y_1 = train_data['Category']\n",
    "test_X_1 = test_data[['Mean_Green', 'Mean_Red','Mean_NIR']]\n",
    "test_Y_1 = test_data['Category']"
   ]
  },
  {
   "cell_type": "code",
   "execution_count": 215,
   "metadata": {},
   "outputs": [
    {
     "name": "stdout",
     "output_type": "stream",
     "text": [
      "The accuracy of the SVM is: 0.628\n"
     ]
    }
   ],
   "source": [
    "model = svm.SVC() #select the algorithm\n",
    "model.fit(train_X_1,train_Y_1) # we train the algorithm with the training data and the training output\n",
    "prediction=model.predict(test_X_1) #now we pass the testing data to the trained algorithm\n",
    "print('The accuracy of the SVM is:',metrics.accuracy_score(prediction,test_Y_1))#now we check the accuracy of the algorithm. \n",
    "#we pass the predicted output by the model and the actual output"
   ]
  },
  {
   "cell_type": "code",
   "execution_count": 216,
   "metadata": {},
   "outputs": [
    {
     "name": "stdout",
     "output_type": "stream",
     "text": [
      "The accuracy of the Logistic Regression is 0.624\n"
     ]
    }
   ],
   "source": [
    "model = LogisticRegression()\n",
    "model.fit(train_X_1,train_Y_1)\n",
    "prediction=model.predict(test_X_1)\n",
    "print('The accuracy of the Logistic Regression is',metrics.accuracy_score(prediction,test_Y_1))"
   ]
  },
  {
   "cell_type": "code",
   "execution_count": 217,
   "metadata": {},
   "outputs": [
    {
     "name": "stdout",
     "output_type": "stream",
     "text": [
      "The accuracy of the Decision Tree is 0.814\n"
     ]
    }
   ],
   "source": [
    "model=DecisionTreeClassifier()\n",
    "model.fit(train_X_1,train_Y_1)\n",
    "prediction=model.predict(test_X_1)\n",
    "print('The accuracy of the Decision Tree is',metrics.accuracy_score(prediction,test_Y_1))"
   ]
  },
  {
   "cell_type": "code",
   "execution_count": 222,
   "metadata": {},
   "outputs": [],
   "source": [
    "#Plot Accuracy Summary\n",
    "\n",
    "import itertools\n",
    "def plot_confusion_matrix(cm, classes,\n",
    "                          normalize=False,\n",
    "                          title='Confusion matrix',\n",
    "                          cmap=plt.cm.Blues):\n",
    "    \"\"\"\n",
    "    This function prints and plots the confusion matrix.\n",
    "    Normalization can be applied by setting `normalize=True`.\n",
    "    \"\"\"\n",
    "    if normalize:\n",
    "        cm = cm.astype('float') / cm.sum(axis=1)[:, np.newaxis]\n",
    "        print(\"Normalized confusion matrix\")\n",
    "    else:\n",
    "        print('Confusion matrix, without normalization')\n",
    "\n",
    "    print(cm)\n",
    "\n",
    "    plt.imshow(cm, interpolation='nearest', cmap=cmap)\n",
    "    plt.title(title)\n",
    "    plt.colorbar()\n",
    "    tick_marks = np.arange(len(classes))\n",
    "    plt.xticks(tick_marks, classes, rotation=45)\n",
    "    plt.yticks(tick_marks, classes)\n",
    "\n",
    "    fmt = '.2f' if normalize else 'd'\n",
    "    thresh = cm.max() / 2.\n",
    "    for i, j in itertools.product(range(cm.shape[0]), range(cm.shape[1])):\n",
    "        plt.text(j, i, format(cm[i, j], fmt),\n",
    "                 horizontalalignment=\"center\",\n",
    "                 color=\"white\" if cm[i, j] > thresh else \"black\")\n",
    "\n",
    "    plt.tight_layout()\n",
    "    plt.ylabel('True label')\n",
    "    plt.xlabel('Predicted label')\n",
    "\n"
   ]
  },
  {
   "cell_type": "code",
   "execution_count": 223,
   "metadata": {},
   "outputs": [
    {
     "name": "stdout",
     "output_type": "stream",
     "text": [
      "The accuracy of the KNN is 0.826\n"
     ]
    }
   ],
   "source": [
    "model=KNeighborsClassifier(n_neighbors=1) #this examines neighbours for putting the new data into a class\n",
    "model.fit(train_X_1,train_Y_1)\n",
    "prediction=model.predict(test_X_1)\n",
    "print('The accuracy of the KNN is',metrics.accuracy_score(prediction,test_Y_1))"
   ]
  },
  {
   "cell_type": "code",
   "execution_count": 229,
   "metadata": {},
   "outputs": [
    {
     "name": "stdout",
     "output_type": "stream",
     "text": [
      "Confusion matrix, without normalization\n",
      "[[4573    5]\n",
      " [  82  179]]\n",
      "Normalized confusion matrix\n",
      "[[1.   0.  ]\n",
      " [0.31 0.69]]\n"
     ]
    },
    {
     "data": {
      "image/png": "[encoded data removed]",
      "text/plain": [
       "<Figure size 432x288 with 2 Axes>"
      ]
     },
     "metadata": {
      "needs_background": "light"
     },
     "output_type": "display_data"
    },
    {
     "data": {
      "image/png": "[encoded data removed]",
      "text/plain": [
       "<Figure size 432x288 with 2 Axes>"
      ]
     },
     "metadata": {
      "needs_background": "light"
     },
     "output_type": "display_data"
    }
   ],
   "source": [
    "# Compute confusion matrix\n",
    "cnf_matrix = metrics.confusion_matrix(train_Y_1.append(test_Y_1), model.predict(train_X_1.append(test_X_1)))\n",
    "np.set_printoptions(precision=2)\n",
    "\n",
    "class_names = ['w', 'n']\n",
    "# Plot non-normalized confusion matrix\n",
    "plt.figure()\n",
    "plot_confusion_matrix(cnf_matrix, classes=class_names,\n",
    "                      title='Confusion matrix, without normalization')\n",
    "\n",
    "# Plot normalized confusion matrix\n",
    "plt.figure()\n",
    "plot_confusion_matrix(cnf_matrix, classes=class_names, normalize=True, \n",
    "                      title='Normalized confusion matrix')"
   ]
  },
  {
   "cell_type": "code",
   "execution_count": 219,
   "metadata": {},
   "outputs": [
    {
     "data": {
      "text/plain": [
       "([<matplotlib.axis.XTick at 0x7fdc37bd6210>,\n",
       "  <matplotlib.axis.XTick at 0x7fdc365d7810>,\n",
       "  <matplotlib.axis.XTick at 0x7fdc37be27d0>,\n",
       "  <matplotlib.axis.XTick at 0x7fdc37bd1150>,\n",
       "  <matplotlib.axis.XTick at 0x7fdc35d7a810>,\n",
       "  <matplotlib.axis.XTick at 0x7fdc35d7a890>,\n",
       "  <matplotlib.axis.XTick at 0x7fdc3637c410>,\n",
       "  <matplotlib.axis.XTick at 0x7fdc360e3950>,\n",
       "  <matplotlib.axis.XTick at 0x7fdc37bc0c50>,\n",
       "  <matplotlib.axis.XTick at 0x7fdc35df6c90>,\n",
       "  <matplotlib.axis.XTick at 0x7fdc35fb1250>],\n",
       " <a list of 11 Text xticklabel objects>)"
      ]
     },
     "execution_count": 219,
     "metadata": {},
     "output_type": "execute_result"
    },
    {
     "data": {
      "image/png": "[encoded data removed]",
      "text/plain": [
       "<Figure size 432x288 with 1 Axes>"
      ]
     },
     "metadata": {
      "needs_background": "light"
     },
     "output_type": "display_data"
    }
   ],
   "source": [
    "a_index=list(range(1,11))\n",
    "a=pd.Series()\n",
    "x=[1,2,3,4,5,6,7,8,9,10,11]\n",
    "for i in list(range(1,11)):\n",
    "    model=KNeighborsClassifier(n_neighbors=i) \n",
    "    model.fit(train_X_1,train_Y_1)\n",
    "    prediction=model.predict(test_X_1)\n",
    "    a=a.append(pd.Series(metrics.accuracy_score(prediction,test_Y_1)))\n",
    "plt.plot(a_index, a)\n",
    "plt.xticks(x)"
   ]
  },
  {
   "cell_type": "code",
   "execution_count": 228,
   "metadata": {},
   "outputs": [
    {
     "data": {
      "text/plain": [
       "<matplotlib.axes._subplots.AxesSubplot at 0x7fdc35c24150>"
      ]
     },
     "execution_count": 228,
     "metadata": {},
     "output_type": "execute_result"
    },
    {
     "data": {
      "image/png": "[encoded data removed]",
      "text/plain": [
       "<Figure size 432x288 with 1 Axes>"
      ]
     },
     "metadata": {
      "needs_background": "light"
     },
     "output_type": "display_data"
    }
   ],
   "source": [
    "sns.countplot(x='Category',data=(train_data))"
   ]
  },
  {
   "cell_type": "code",
   "execution_count": 227,
   "metadata": {},
   "outputs": [
    {
     "data": {
      "text/plain": [
       "<matplotlib.axes._subplots.AxesSubplot at 0x7fdc3662f450>"
      ]
     },
     "execution_count": 227,
     "metadata": {},
     "output_type": "execute_result"
    },
    {
     "data": {
      "image/png": "[encoded data removed]",
      "text/plain": [
       "<Figure size 432x288 with 1 Axes>"
      ]
     },
     "metadata": {
      "needs_background": "light"
     },
     "output_type": "display_data"
    }
   ],
   "source": [
    "sns.countplot(x='Category',data=(test_data))"
   ]
  },
  {
   "cell_type": "markdown",
   "metadata": {},
   "source": [
    "Conclusion: KNN successfully predicted wilted trees with accuracy of 82 %\n"
   ]
  },
  {
   "cell_type": "code",
   "execution_count": null,
   "metadata": {},
   "outputs": [],
   "source": []
  }
 ],
 "metadata": {
  "kernelspec": {
   "display_name": "Python 3",
   "language": "python",
   "name": "python3"
  },
  "language_info": {
   "codemirror_mode": {
    "name": "ipython",
    "version": 3
   },
   "file_extension": ".py",
   "mimetype": "text/x-python",
   "name": "python",
   "nbconvert_exporter": "python",
   "pygments_lexer": "ipython3",
   "version": "3.7.4"
  }
 },
 "nbformat": 4,
 "nbformat_minor": 2
}
